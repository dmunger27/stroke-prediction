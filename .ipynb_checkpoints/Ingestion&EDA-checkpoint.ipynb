{
 "cells": [
  {
   "cell_type": "markdown",
   "metadata": {},
   "source": [
    "# Read in the files from S3 bucket for EDA"
   ]
  },
  {
   "cell_type": "code",
   "execution_count": null,
   "metadata": {},
   "outputs": [],
   "source": [
    "import boto3\n",
    "import pandas as pd\n",
    "\n",
    "s3_client = boto3.client(\"s3\")\n",
    "\n",
    "BUCKET = 'ads-508-team2'\n",
    "KEY_ONE = 'cardio_train.csv'\n",
    "KEY_TWO = 'healthcare-dataset-stroke-data.csv'\n",
    "KEY_THREE = 'Stroke_Mortality_Data_Among_US_Adults__35___by_State_Territory_and_County___2017-2019.csv'\n",
    "\n",
    "response_one = s3_client.get_object(Bucket = BUCKET, Key = KEY_ONE)\n",
    "response_two = s3_client.get_object(Bucket = BUCKET, Key = KEY_TWO)\n",
    "response_three = s3_client.get_object(Bucket = BUCKET, Key = KEY_THREE)\n",
    "\n",
    "cardio_df = pd.read_csv(response_one.get(\"Body\"), sep = ';')\n",
    "stroke_df = pd.read_csv(response_two.get(\"Body\"))\n",
    "stroke_ts_df = pd.read_csv(response_three.get(\"Body\"))"
   ]
  }
 ],
 "metadata": {
  "instance_type": "ml.t3.medium",
  "kernelspec": {
   "display_name": "Python 3 (Data Science)",
   "language": "python",
   "name": "python3__SAGEMAKER_INTERNAL__arn:aws:sagemaker:us-east-1:081325390199:image/datascience-1.0"
  },
  "language_info": {
   "codemirror_mode": {
    "name": "ipython",
    "version": 3
   },
   "file_extension": ".py",
   "mimetype": "text/x-python",
   "name": "python",
   "nbconvert_exporter": "python",
   "pygments_lexer": "ipython3",
   "version": "3.7.10"
  }
 },
 "nbformat": 4,
 "nbformat_minor": 4
}
